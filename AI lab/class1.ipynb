{
 "cells": [
  {
   "attachments": {},
   "cell_type": "markdown",
   "metadata": {},
   "source": [
    "Basic python"
   ]
  },
  {
   "cell_type": "code",
   "execution_count": 24,
   "metadata": {},
   "outputs": [
    {
     "name": "stdout",
     "output_type": "stream",
     "text": [
      "['hello', 'world', ' !']\n",
      "['hello', 'world']\n",
      "hello world\n"
     ]
    }
   ],
   "source": [
    "str = \"hello world\"\n",
    "\n",
    "lst = str.split(\" \")\n",
    "\n",
    "lst.append(\" !\")\n",
    "print(lst)\n",
    "\n",
    "del lst[2]\n",
    "\n",
    "print(lst)\n",
    "\n",
    "str2 = ' '.join(lst)\n",
    "\n",
    "print(str2)"
   ]
  },
  {
   "cell_type": "code",
   "execution_count": 28,
   "metadata": {},
   "outputs": [
    {
     "name": "stdout",
     "output_type": "stream",
     "text": [
      "adult\n"
     ]
    }
   ],
   "source": [
    "age = float(input(\"Enter your age: \"))\n",
    "\n",
    "if age < 18 and age > 10:\n",
    "    print(\"not adult\")\n",
    "elif age < 10:\n",
    "    print(\"toddler\")\n",
    "else:\n",
    "    print(\"adult\")"
   ]
  },
  {
   "cell_type": "code",
   "execution_count": 33,
   "metadata": {},
   "outputs": [
    {
     "name": "stdout",
     "output_type": "stream",
     "text": [
      "[10, 9, 8, 7, 6, 5, 4, 3, 2, 1, 0]\n"
     ]
    }
   ],
   "source": [
    "lst2 = []\n",
    "\n",
    "for each in reversed(range(0, 11)):\n",
    "    lst2.append(each)\n",
    "\n",
    "print(lst2)"
   ]
  },
  {
   "cell_type": "code",
   "execution_count": 36,
   "metadata": {},
   "outputs": [
    {
     "name": "stdout",
     "output_type": "stream",
     "text": [
      "4   8\n",
      "4   1\n",
      "4   5\n",
      "4   0\n",
      "8   1\n",
      "8   5\n",
      "8   0\n",
      "1   5\n",
      "1   0\n",
      "5   0\n"
     ]
    }
   ],
   "source": [
    "N = int(input())\n",
    "\n",
    "lst2 = []\n",
    "\n",
    "for i in range(N):\n",
    "    lst2.append(int(input()))\n",
    "\n",
    "for i in range(len(lst2)):\n",
    "    j = i\n",
    "    for j in range(i+1, len(lst2)):\n",
    "        print(lst2[i], \" \", lst2[j])\n",
    "    i += 1\n"
   ]
  },
  {
   "cell_type": "code",
   "execution_count": 1,
   "metadata": {},
   "outputs": [
    {
     "ename": "AttributeError",
     "evalue": "'str' object has no attribute 'copy'",
     "output_type": "error",
     "traceback": [
      "\u001b[1;31m---------------------------------------------------------------------------\u001b[0m",
      "\u001b[1;31mAttributeError\u001b[0m                            Traceback (most recent call last)",
      "\u001b[1;32m~\\AppData\\Local\\Temp\\ipykernel_14252\\3892965541.py\u001b[0m in \u001b[0;36m<module>\u001b[1;34m\u001b[0m\n\u001b[0;32m     10\u001b[0m     \u001b[0mcheck\u001b[0m\u001b[1;33m[\u001b[0m\u001b[0meachChar\u001b[0m\u001b[1;33m]\u001b[0m \u001b[1;33m+=\u001b[0m \u001b[1;36m1\u001b[0m\u001b[1;33m\u001b[0m\u001b[1;33m\u001b[0m\u001b[0m\n\u001b[0;32m     11\u001b[0m \u001b[1;33m\u001b[0m\u001b[0m\n\u001b[1;32m---> 12\u001b[1;33m \u001b[0muniqueChar\u001b[0m \u001b[1;33m=\u001b[0m \u001b[0mstr\u001b[0m\u001b[1;33m.\u001b[0m\u001b[0mcopy\u001b[0m\u001b[1;33m(\u001b[0m\u001b[1;33m)\u001b[0m\u001b[1;33m\u001b[0m\u001b[1;33m\u001b[0m\u001b[0m\n\u001b[0m\u001b[0;32m     13\u001b[0m \u001b[1;32mfor\u001b[0m \u001b[0meachChar\u001b[0m \u001b[1;32min\u001b[0m \u001b[0mstr\u001b[0m\u001b[1;33m:\u001b[0m\u001b[1;33m\u001b[0m\u001b[1;33m\u001b[0m\u001b[0m\n\u001b[0;32m     14\u001b[0m     \u001b[0mprint\u001b[0m\u001b[1;33m(\u001b[0m\u001b[0meachChar\u001b[0m\u001b[1;33m,\u001b[0m \u001b[1;34m\" : \"\u001b[0m\u001b[1;33m,\u001b[0m \u001b[0mcheck\u001b[0m\u001b[1;33m[\u001b[0m\u001b[0meachChar\u001b[0m\u001b[1;33m]\u001b[0m\u001b[1;33m)\u001b[0m\u001b[1;33m\u001b[0m\u001b[1;33m\u001b[0m\u001b[0m\n",
      "\u001b[1;31mAttributeError\u001b[0m: 'str' object has no attribute 'copy'"
     ]
    }
   ],
   "source": [
    "#freq of each letter using dictionary\n",
    "\n",
    "#problem 3\n",
    "\n",
    "str = input(\"Enter string\")\n",
    "\n",
    "check = {}\n",
    "\n",
    "for eachChar in str:\n",
    "    if eachChar not in check:\n",
    "        check[eachChar] = 0\n",
    "    check[eachChar] += 1\n",
    "checkStr = \"\"\n",
    "for eachChar in str:\n",
    "    if eachChar in checkStr:\n",
    "        continue\n",
    "    print(eachChar, \" : \", check[eachChar])\n",
    "    checkStr += eachChar"
   ]
  },
  {
   "cell_type": "code",
   "execution_count": 41,
   "metadata": {},
   "outputs": [
    {
     "name": "stdout",
     "output_type": "stream",
     "text": [
      "10 is in the lst\n"
     ]
    }
   ],
   "source": [
    "a = 5 \n",
    "\n",
    "print(f\"{a + 5} is in the lst\")"
   ]
  },
  {
   "cell_type": "code",
   "execution_count": null,
   "metadata": {},
   "outputs": [],
   "source": []
  }
 ],
 "metadata": {
  "kernelspec": {
   "display_name": "base",
   "language": "python",
   "name": "python3"
  },
  "language_info": {
   "codemirror_mode": {
    "name": "ipython",
    "version": 3
   },
   "file_extension": ".py",
   "mimetype": "text/x-python",
   "name": "python",
   "nbconvert_exporter": "python",
   "pygments_lexer": "ipython3",
   "version": "3.9.13"
  },
  "orig_nbformat": 4,
  "vscode": {
   "interpreter": {
    "hash": "e7ea1dfb28780cb7412353a3ec0c3d0a6bf48b6a5903db3c2edca4efca070eeb"
   }
  }
 },
 "nbformat": 4,
 "nbformat_minor": 2
}
