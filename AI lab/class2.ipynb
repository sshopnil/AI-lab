{
 "cells": [
  {
   "cell_type": "code",
   "execution_count": 1,
   "metadata": {
    "collapsed": true
   },
   "outputs": [
    {
     "name": "stdout",
     "output_type": "stream",
     "text": [
      "hello world\n"
     ]
    }
   ],
   "source": [
    "import math\n",
    "\n",
    "print(\"hello world\")"
   ]
  },
  {
   "cell_type": "code",
   "execution_count": 5,
   "outputs": [
    {
     "name": "stdout",
     "output_type": "stream",
     "text": [
      "[0, 1, 4, 9, 16]\n"
     ]
    }
   ],
   "source": [
    "#problem 4\n",
    "\n",
    "n = int(input())\n",
    "\n",
    "dicn = {}\n",
    "\n",
    "for i in range(n):\n",
    "    dicn[i] = i*i\n",
    "\n",
    "print(list(dicn.values()))"
   ],
   "metadata": {
    "collapsed": false
   }
  },
  {
   "cell_type": "code",
   "execution_count": 27,
   "outputs": [
    {
     "name": "stdout",
     "output_type": "stream",
     "text": [
      "distance:  2.8284271247461903\n"
     ]
    }
   ],
   "source": [
    "#problem 5\n",
    "import math\n",
    "def distance(x, y, x1, y1):\n",
    "    print(\"distance: \",math.sqrt((x-x1)**2+(y-y1)**2))\n",
    "\n",
    "distance(int(input()), int(input()), int(input()), int(input()))"
   ],
   "metadata": {
    "collapsed": false
   }
  },
  {
   "cell_type": "code",
   "execution_count": 15,
   "outputs": [
    {
     "name": "stdout",
     "output_type": "stream",
     "text": [
      "distance:  7\n"
     ]
    }
   ],
   "source": [
    "#problem 6\n",
    "class twoD:\n",
    "    def __init__(self, x, y):\n",
    "        self.x = x\n",
    "        self.y = y\n",
    "    def distance(self, x1, y1):\n",
    "        dist = abs(self.x-x1)+abs(self.y-y1)\n",
    "        return dist\n",
    "\n",
    "obj = twoD(1, 1)\n",
    "\n",
    "print(\"distance: \", obj.distance(4, 5))"
   ],
   "metadata": {
    "collapsed": false
   }
  },
  {
   "cell_type": "code",
   "execution_count": 19,
   "outputs": [
    {
     "name": "stdout",
     "output_type": "stream",
     "text": [
      "you are young\n"
     ]
    }
   ],
   "source": [
    "def checkVote(age):\n",
    "    if age < 0 or age >= 150:\n",
    "        print(\"age error\")\n",
    "    elif age < 18:\n",
    "        print(\"you cannot vote\")\n",
    "    elif age > 60:\n",
    "        print(\"close to retirement age\")\n",
    "    else:\n",
    "        print(\"you are young\")\n",
    "\n",
    "checkVote(int(input()))"
   ],
   "metadata": {
    "collapsed": false
   }
  },
  {
   "cell_type": "code",
   "execution_count": 21,
   "outputs": [
    {
     "name": "stdout",
     "output_type": "stream",
     "text": [
      "Distance:  5.0\n"
     ]
    }
   ],
   "source": [
    "#problem 7\n",
    "\n",
    "class Points:\n",
    "    def __init__(self, x, y):\n",
    "        self.x = x\n",
    "        self.y = y\n",
    "    def move_left(self):\n",
    "        self.x -= self.x\n",
    "    def move_right(self):\n",
    "        self.x += self.x\n",
    "    def move_down(self):\n",
    "        self.y -= self.y\n",
    "    def move_up(self):\n",
    "        self.y += self.y\n",
    "\n",
    "    @staticmethod\n",
    "    def distance(x, y, x1, y1):\n",
    "        return math.sqrt((x-x1)**2+(y-y1)**2)\n",
    "\n",
    "obj = Points(1, 1)\n",
    "obj2 = Points(4, 5)\n",
    "\n",
    "print(\"Distance: \", Points.distance(obj.x, obj.y, obj2.x, obj2.y))"
   ],
   "metadata": {
    "collapsed": false
   }
  },
  {
   "cell_type": "code",
   "execution_count": 26,
   "outputs": [
    {
     "name": "stdout",
     "output_type": "stream",
     "text": [
      "value 0 doesn't exists in dictionary\n",
      "Niggy 4.0\n",
      "Neela 3.67\n"
     ]
    }
   ],
   "source": [
    "#problem 8\n",
    "\n",
    "class Student:\n",
    "    def __init__(self, name, st_id):\n",
    "        self.name = name\n",
    "        self.id = id\n",
    "        self.cgpa = 0\n",
    "    def update_cgpa(self, new_cg):\n",
    "        self.cgpa = new_cg\n",
    "    def __str__(self): #to string function\n",
    "        return f\"{self.name} with cgpa: {self.cgpa}\"\n",
    "\n",
    "students = {}\n",
    "\n",
    "n = int(input(\"Insert N students: \"))\n",
    "\n",
    "for i in range(n):\n",
    "    st_id = int(input(\"ID: \"))\n",
    "    st_name = input(\"Name: \")\n",
    "    students[st_id] = Student(st_name, st_id)\n",
    "m = int(input(\"Update students\"))\n",
    "\n",
    "for j in range(m):\n",
    "    st_id = int(input(\"ID: \"))\n",
    "    if st_id in students:\n",
    "        st_cgpa = float(input(f\"CGPA for ID {st_id}\"))\n",
    "        students[st_id].update_cgpa(st_cgpa)\n",
    "    else:\n",
    "        print(f\"value {st_id} doesn't exists in dictionary\")\n",
    "\n",
    "for k in students:\n",
    "    print(students[k].name, students[k].cgpa)\n"
   ],
   "metadata": {
    "collapsed": false
   }
  },
  {
   "cell_type": "code",
   "execution_count": null,
   "outputs": [],
   "source": [
    "#problem 9\n",
    "\n"
   ],
   "metadata": {
    "collapsed": false
   }
  }
 ],
 "metadata": {
  "kernelspec": {
   "display_name": "Python 3",
   "language": "python",
   "name": "python3"
  },
  "language_info": {
   "codemirror_mode": {
    "name": "ipython",
    "version": 2
   },
   "file_extension": ".py",
   "mimetype": "text/x-python",
   "name": "python",
   "nbconvert_exporter": "python",
   "pygments_lexer": "ipython2",
   "version": "2.7.6"
  }
 },
 "nbformat": 4,
 "nbformat_minor": 0
}
