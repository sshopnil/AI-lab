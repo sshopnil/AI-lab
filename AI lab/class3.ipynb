{
 "cells": [
  {
   "cell_type": "markdown",
   "source": [
    "Numpy introduction"
   ],
   "metadata": {
    "collapsed": false
   }
  },
  {
   "cell_type": "code",
   "execution_count": 1,
   "outputs": [],
   "source": [
    "import numpy as np\n"
   ],
   "metadata": {
    "collapsed": false
   }
  },
  {
   "cell_type": "code",
   "execution_count": 21,
   "outputs": [
    {
     "name": "stdout",
     "output_type": "stream",
     "text": [
      "#2d array 2 #1d array 2 ALL element 3\n",
      "[[ 1  4]\n",
      " [ 7 10]]\n",
      "[[ 2.5  3.5  4.5]\n",
      " [ 8.5  9.5 10.5]]\n"
     ]
    }
   ],
   "source": [
    "npArr = np.array([\n",
    "    [\n",
    "        [1, 2, 3],\n",
    "        [4, 5, 6]\n",
    "    ],\n",
    "    [\n",
    "        [7, 8, 9],\n",
    "        [10, 11, 12]\n",
    "    ]\n",
    "])\n",
    "\n",
    "print(\"#2d array\",npArr.shape[0], \"#1d array\", npArr.shape[1], \"ALL element\", npArr.shape[2])\n",
    "print(npArr[:, :, 0])\n",
    "print(npArr.mean(axis=1))"
   ],
   "metadata": {
    "collapsed": false
   }
  },
  {
   "cell_type": "code",
   "execution_count": 29,
   "outputs": [
    {
     "name": "stdout",
     "output_type": "stream",
     "text": [
      "[[ 6  7  8]\n",
      " [10 11 12]]\n",
      "[[2 3 4]\n",
      " [6 7 8]]\n",
      "[ 7 11 15 19]\n"
     ]
    }
   ],
   "source": [
    "npArr = np.arange(1, 21)\n",
    "\n",
    "npArr = npArr.reshape((5, 4))\n",
    "\n",
    "print(npArr[1:3, 1:])\n",
    "print(npArr[:2, 1:])\n",
    "print(npArr[1:, 2])"
   ],
   "metadata": {
    "collapsed": false
   }
  },
  {
   "cell_type": "code",
   "execution_count": null,
   "outputs": [],
   "source": [],
   "metadata": {
    "collapsed": false
   }
  }
 ],
 "metadata": {
  "kernelspec": {
   "display_name": "Python 3",
   "language": "python",
   "name": "python3"
  },
  "language_info": {
   "codemirror_mode": {
    "name": "ipython",
    "version": 2
   },
   "file_extension": ".py",
   "mimetype": "text/x-python",
   "name": "python",
   "nbconvert_exporter": "python",
   "pygments_lexer": "ipython2",
   "version": "2.7.6"
  }
 },
 "nbformat": 4,
 "nbformat_minor": 0
}
