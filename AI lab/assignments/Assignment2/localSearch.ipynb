{
 "cells": [
  {
   "cell_type": "markdown",
   "source": [
    "Taking Input from User"
   ],
   "metadata": {
    "collapsed": false
   }
  },
  {
   "cell_type": "code",
   "execution_count": 375,
   "metadata": {
    "collapsed": true
   },
   "outputs": [],
   "source": [
    "import numpy as np\n",
    "import copy as cp\n",
    "import math\n",
    "init_state = np.array([\n",
    "    [3, 1, 2],\n",
    "    [6, 4, 0],\n",
    "    [7, 8, 5]\n",
    "])\n",
    "\n",
    "goal_state = np.array([\n",
    "    [0, 1, 2],\n",
    "    [3, 4, 5],\n",
    "    [6, 7, 8]\n",
    "])"
   ]
  },
  {
   "cell_type": "code",
   "execution_count": 362,
   "outputs": [
    {
     "name": "stdout",
     "output_type": "stream",
     "text": [
      "[1, 2]\n",
      "[[3 1 2]\n",
      " [6 4 0]\n",
      " [7 8 5]]\n",
      "3\n"
     ]
    }
   ],
   "source": [
    "# finding position of 0\n",
    "pos = np.argwhere(init_state == 0)\n",
    "pos = pos.tolist()[0]\n",
    "print(pos)\n",
    "\n",
    "\n",
    "curr_state = cp.deepcopy(init_state)\n",
    "\n",
    "# temp = curr_state[pos[0], pos[1]]\n",
    "# curr_state[pos[0], pos[1]] = curr_state[pos[0], pos[1]+1]\n",
    "# curr_state[pos[0], pos[1]+1] = pos[]\n",
    "    # = curr_state[pos[0], pos[1]]\n",
    "\n",
    "print(curr_state)\n",
    "print(init_state.shape[0])"
   ],
   "metadata": {
    "collapsed": false
   }
  },
  {
   "cell_type": "code",
   "execution_count": 363,
   "outputs": [],
   "source": [
    "class NodeStates:\n",
    "    def __init__(self, in_state):\n",
    "        self.in_state = in_state\n",
    "\n",
    "    def find_pos(self, val):\n",
    "        return np.argwhere(self.in_state == val).tolist()[0]\n",
    "\n",
    "    def swap(self, pos, dir):\n",
    "        temp = self.in_state[pos[0], pos[1]]\n",
    "        self.in_state[pos[0], pos[1]] = self.in_state[dir[0], dir[1]]\n",
    "        self.in_state[dir[0], dir[1]] = temp\n",
    "\n",
    "    def move_up(self):\n",
    "        pos = self.find_pos(0)\n",
    "        if pos[0] == 0:\n",
    "            return self.in_state\n",
    "        else:\n",
    "            dir = [pos[0]-1, pos[1]]\n",
    "            self.swap(pos, dir)\n",
    "\n",
    "    def move_down(self):\n",
    "        pos = self.find_pos(0)\n",
    "        if pos[0] == self.in_state.shape[0]-1:\n",
    "            return self.in_state\n",
    "        else:\n",
    "            dir = [pos[0]+1, pos[1]]\n",
    "            self.swap(pos, dir)\n",
    "\n",
    "    def move_right(self):\n",
    "        pos = self.find_pos(0)\n",
    "        if pos[1] == self.in_state.shape[1]-1:\n",
    "            return self.in_state\n",
    "        else:\n",
    "            dir = [pos[0], pos[1]+1]\n",
    "            self.swap(pos, dir)\n",
    "\n",
    "    def move_left(self):\n",
    "        pos = self.find_pos(0)\n",
    "        if pos[1] == 0:\n",
    "            return self.in_state\n",
    "        else:\n",
    "            dir = [pos[0], pos[1]-1]\n",
    "            self.swap(pos, dir)\n",
    "\n",
    "    def manhattan_distance(self, goal_state):\n",
    "        sum = 0\n",
    "        for i in range(3):\n",
    "            for j in range(3):\n",
    "                c_pos = self.find_pos(goal_state[i][j])\n",
    "                sum += abs(c_pos[0]-i) + abs(c_pos[1]-j)\n",
    "                # print(sum)\n",
    "        return sum\n",
    "\n",
    "    def misplaced_tiles(self, goal_state):\n",
    "        sum = 0\n",
    "        for i in range(3):\n",
    "            for j in range(3):\n",
    "                c_pos = self.find_pos(goal_state[i][j])\n",
    "                if c_pos != [i, j]:\n",
    "                    sum += 1\n",
    "        return sum"
   ],
   "metadata": {
    "collapsed": false
   }
  },
  {
   "cell_type": "code",
   "execution_count": 416,
   "outputs": [],
   "source": [
    "curr_state = NodeStates(init_state)\n",
    "\n",
    "# print(curr_state.in_state)\n",
    "# print(goal_state)\n",
    "# print(curr_state.misplaced_tiles(goal_state))"
   ],
   "metadata": {
    "collapsed": false
   }
  },
  {
   "cell_type": "markdown",
   "source": [
    "steepest ascent hill climbing approach"
   ],
   "metadata": {
    "collapsed": false
   }
  },
  {
   "cell_type": "code",
   "execution_count": 365,
   "outputs": [],
   "source": [
    "def get_lowest_cost_successor_md(nodeState, goal_state):\n",
    "    min_cost = 999999\n",
    "    lowest_successor = nodeState\n",
    "    for i in range(4):\n",
    "        temp_state = nodeState\n",
    "\n",
    "        if i == 0:\n",
    "            temp_state.move_up()\n",
    "            cost = temp_state.manhattan_distance(goal_state)\n",
    "            if cost < min_cost:\n",
    "                min_cost = cost\n",
    "                lowest_successor = cp.deepcopy(temp_state)\n",
    "\n",
    "        if i == 1:\n",
    "            temp_state.move_down()\n",
    "            cost = temp_state.manhattan_distance(goal_state)\n",
    "            if cost < min_cost:\n",
    "                min_cost = cost\n",
    "                lowest_successor = cp.deepcopy(temp_state)\n",
    "\n",
    "        if i == 2:\n",
    "            temp_state.move_left()\n",
    "            cost = temp_state.manhattan_distance(goal_state)\n",
    "            if cost < min_cost:\n",
    "                min_cost = cost\n",
    "                lowest_successor = cp.deepcopy(temp_state)\n",
    "\n",
    "        if i == 3:\n",
    "            temp_state.move_right()\n",
    "            cost = temp_state.manhattan_distance(goal_state)\n",
    "            if cost < min_cost:\n",
    "                min_cost = cost\n",
    "                lowest_successor = cp.deepcopy(temp_state)\n",
    "    return lowest_successor, min_cost\n"
   ],
   "metadata": {
    "collapsed": false
   }
  },
  {
   "cell_type": "code",
   "execution_count": 366,
   "outputs": [],
   "source": [
    "def get_lowest_cost_successor_mt(nodeState, goal_state):\n",
    "    min_cost = 999999\n",
    "    lowest_successor = nodeState\n",
    "\n",
    "    for i in range(4):\n",
    "        temp_state = nodeState\n",
    "\n",
    "        if i == 0:\n",
    "            temp_state.move_up()\n",
    "            cost = temp_state.misplaced_tiles(goal_state)\n",
    "            if cost < min_cost:\n",
    "                min_cost = cost\n",
    "                lowest_successor = cp.deepcopy(temp_state)\n",
    "\n",
    "        if i == 1:\n",
    "            temp_state.move_down()\n",
    "            cost = temp_state.misplaced_tiles(goal_state)\n",
    "            if cost < min_cost:\n",
    "                min_cost = cost\n",
    "                lowest_successor = cp.deepcopy(temp_state)\n",
    "\n",
    "        if i == 2:\n",
    "            temp_state.move_left()\n",
    "            cost = temp_state.misplaced_tiles(goal_state)\n",
    "            if cost < min_cost:\n",
    "                min_cost = cost\n",
    "                lowest_successor = cp.deepcopy(temp_state)\n",
    "\n",
    "        if i == 3:\n",
    "            temp_state.move_right()\n",
    "            cost = temp_state.misplaced_tiles(goal_state)\n",
    "            if cost < min_cost:\n",
    "                min_cost = cost\n",
    "                lowest_successor = cp.deepcopy(temp_state)\n",
    "    return lowest_successor, min_cost\n"
   ],
   "metadata": {
    "collapsed": false
   }
  },
  {
   "cell_type": "markdown",
   "source": [
    "Hill climbing with manhattan distance heuristic"
   ],
   "metadata": {
    "collapsed": false
   }
  },
  {
   "cell_type": "code",
   "execution_count": 376,
   "outputs": [],
   "source": [
    "def hill_climbing(start_state):\n",
    "    curr = start_state\n",
    "    itr = 0\n",
    "\n",
    "    while True:\n",
    "        itr+=1\n",
    "        curr_heuristic = curr.manhattan_distance(goal_state)\n",
    "\n",
    "        if itr > 300 or curr_heuristic == 0:\n",
    "            break\n",
    "        neighbour, heuristic = get_lowest_cost_successor_md(curr, goal_state)\n",
    "        print(neighbour.in_state, heuristic)\n",
    "\n",
    "        if heuristic >= curr_heuristic:\n",
    "            print(curr.in_state)\n",
    "            print(itr, \"iterations\")\n",
    "            return curr\n",
    "        curr = neighbour\n",
    "    print(curr.in_state)\n",
    "    print(itr, \"iterations\")\n",
    "    return curr"
   ],
   "metadata": {
    "collapsed": false
   }
  },
  {
   "cell_type": "code",
   "execution_count": 379,
   "outputs": [
    {
     "name": "stdout",
     "output_type": "stream",
     "text": [
      "[[3 1 0]\n",
      " [6 4 2]\n",
      " [7 8 5]] 8\n",
      "[[3 1 2]\n",
      " [6 4 0]\n",
      " [7 8 5]]\n",
      "1 iterations\n",
      "h= 8\n"
     ]
    }
   ],
   "source": [
    "temp_state = cp.deepcopy(curr_state)\n",
    "sol = hill_climbing(temp_state)\n",
    "print(\"h=\",sol.manhattan_distance(goal_state))"
   ],
   "metadata": {
    "collapsed": false
   }
  },
  {
   "cell_type": "markdown",
   "source": [
    "Hill climbing with misplaced tiles heuristic"
   ],
   "metadata": {
    "collapsed": false
   }
  },
  {
   "cell_type": "code",
   "execution_count": 380,
   "outputs": [],
   "source": [
    "def hill_climbing(start_state):\n",
    "    curr = start_state\n",
    "    itr = 0\n",
    "\n",
    "    while True:\n",
    "        itr+=1\n",
    "        curr_heuristic = curr.misplaced_tiles(goal_state)\n",
    "\n",
    "        if itr > 300 or curr_heuristic == 0:\n",
    "            break\n",
    "        neighbour, heuristic = get_lowest_cost_successor_mt(curr, goal_state)\n",
    "        print(neighbour.in_state, heuristic)\n",
    "\n",
    "        if heuristic >= curr_heuristic:\n",
    "            print(curr.in_state)\n",
    "            print(itr, \"iterations\")\n",
    "            return curr\n",
    "        curr = neighbour\n",
    "    print(curr.in_state)\n",
    "    print(itr, \"iterations\")\n",
    "    return curr"
   ],
   "metadata": {
    "collapsed": false
   }
  },
  {
   "cell_type": "code",
   "execution_count": 382,
   "outputs": [
    {
     "name": "stdout",
     "output_type": "stream",
     "text": [
      "[[3 1 2]\n",
      " [6 4 0]\n",
      " [7 8 5]] 6\n",
      "[[3 1 2]\n",
      " [6 4 0]\n",
      " [7 8 5]]\n",
      "1 iterations\n",
      "h= 6\n"
     ]
    }
   ],
   "source": [
    "temp_state = cp.deepcopy(curr_state)\n",
    "sol = hill_climbing(temp_state)\n",
    "print(\"h=\", sol.misplaced_tiles(goal_state))"
   ],
   "metadata": {
    "collapsed": false
   }
  },
  {
   "cell_type": "markdown",
   "source": [
    "Simulated Annealing Starts From Here"
   ],
   "metadata": {
    "collapsed": false
   }
  },
  {
   "cell_type": "code",
   "execution_count": 258,
   "outputs": [],
   "source": [
    "# randomly selected neighbour\n",
    "\n",
    "import random\n",
    "import time\n",
    "\n",
    "\n",
    "\n",
    "def random_select_neighbour_mt(parent_state, goal_state):\n",
    "\n",
    "    dictn = {}\n",
    "\n",
    "    for i in range(4):\n",
    "        temp_state = cp.deepcopy(parent_state)\n",
    "\n",
    "        if i == 0:\n",
    "            temp_state.move_up()\n",
    "            cost = temp_state.misplaced_tiles(goal_state)\n",
    "            dictn[i] = [temp_state, cost]\n",
    "            # print(dictn[i][0].in_state)\n",
    "\n",
    "        if i == 1:\n",
    "            temp_state.move_down()\n",
    "            cost = temp_state.misplaced_tiles(goal_state)\n",
    "            dictn[i] = [temp_state, cost]\n",
    "\n",
    "        if i == 2:\n",
    "            temp_state.move_left()\n",
    "            cost = temp_state.misplaced_tiles(goal_state)\n",
    "            dictn[i] = [temp_state, cost]\n",
    "\n",
    "        if i == 3:\n",
    "            temp_state.move_right()\n",
    "            cost = temp_state.misplaced_tiles(goal_state)\n",
    "            dictn[i] = [temp_state, cost]\n",
    "\n",
    "    lst = []\n",
    "    lst.append(dictn)\n",
    "    random.seed(time.time())\n",
    "    lst = lst[0][random.randrange(0, 4)]\n",
    "    return lst"
   ],
   "metadata": {
    "collapsed": false
   }
  },
  {
   "cell_type": "code",
   "execution_count": 417,
   "outputs": [],
   "source": [
    "# temp_state = cp.deepcopy(curr_state)\n",
    "# print(temp_state.in_state)\n",
    "# temp_state = random_select_neighbour_mt(temp_state, goal_state)\n",
    "#\n",
    "# print(temp_state[0].in_state)"
   ],
   "metadata": {
    "collapsed": false
   }
  },
  {
   "cell_type": "code",
   "execution_count": 418,
   "outputs": [],
   "source": [
    "def simulated_annealing(start_state, T, alpha):\n",
    "    curr = start_state\n",
    "    itr = 0\n",
    "\n",
    "    while True:\n",
    "        itr += 1\n",
    "        if T == 0 or itr > 300 or np.array_equal(curr.in_state, goal_state):\n",
    "            print(curr.in_state)\n",
    "            print(itr, \"iterations\")\n",
    "            return curr\n",
    "\n",
    "        next_ = random_select_neighbour_mt(curr, goal_state)\n",
    "        curr_val = curr.misplaced_tiles(goal_state)\n",
    "\n",
    "        delE = next_[1] - curr_val\n",
    "        # print(itr)\n",
    "        if delE >= 0:\n",
    "            curr = next_[0]\n",
    "        elif random.random() < math.exp(delE/T):\n",
    "            curr = next_[0]\n",
    "        T = alpha * T\n",
    "        # print(T)\n",
    "    print(curr.in_state)\n",
    "    print(itr, \"iterations\")\n",
    "    return curr\n"
   ],
   "metadata": {
    "collapsed": false
   }
  },
  {
   "cell_type": "code",
   "execution_count": 388,
   "outputs": [
    {
     "name": "stdout",
     "output_type": "stream",
     "text": [
      "[[0 1 2]\n",
      " [3 4 5]\n",
      " [6 7 8]]\n",
      "22 iterations\n",
      "h= 0\n"
     ]
    }
   ],
   "source": [
    "temp_state = cp.deepcopy(curr_state)\n",
    "sol = simulated_annealing(temp_state, 20, 0.97)\n",
    "print(\"h=\", sol.misplaced_tiles(goal_state))"
   ],
   "metadata": {
    "collapsed": false
   }
  },
  {
   "cell_type": "code",
   "execution_count": 323,
   "outputs": [],
   "source": [
    "def random_select_neighbour_md(parent_state, goal_state):\n",
    "\n",
    "    dictn = {}\n",
    "\n",
    "    for i in range(4):\n",
    "        temp_state = cp.deepcopy(parent_state)\n",
    "\n",
    "        if i == 0:\n",
    "            temp_state.move_up()\n",
    "            cost = temp_state.manhattan_distance(goal_state)\n",
    "            dictn[i] = [temp_state, cost]\n",
    "            # print(dictn[i][0].in_state)\n",
    "\n",
    "        if i == 1:\n",
    "            temp_state.move_down()\n",
    "            cost = temp_state.manhattan_distance(goal_state)\n",
    "            dictn[i] = [temp_state, cost]\n",
    "\n",
    "        if i == 2:\n",
    "            temp_state.move_left()\n",
    "            cost = temp_state.manhattan_distance(goal_state)\n",
    "            dictn[i] = [temp_state, cost]\n",
    "\n",
    "        if i == 3:\n",
    "            temp_state.move_right()\n",
    "            cost = temp_state.manhattan_distance(goal_state)\n",
    "            dictn[i] = [temp_state, cost]\n",
    "\n",
    "    lst = []\n",
    "    lst.append(dictn)\n",
    "    random.seed(time.time())\n",
    "    lst = lst[0][random.randrange(0, 4)]\n",
    "    return lst"
   ],
   "metadata": {
    "collapsed": false
   }
  },
  {
   "cell_type": "code",
   "execution_count": 403,
   "outputs": [],
   "source": [
    "def random_restart(start_state):\n",
    "    dictn = {}\n",
    "\n",
    "    for i in range(4):\n",
    "        temp_state = cp.deepcopy(start_state)\n",
    "\n",
    "        if i == 0:\n",
    "            temp_state.move_up()\n",
    "            cost = temp_state.manhattan_distance(goal_state)\n",
    "            dictn[i] = [temp_state, cost]\n",
    "            # print(dictn[i][0].in_state)\n",
    "\n",
    "        if i == 1:\n",
    "            temp_state.move_down()\n",
    "            cost = temp_state.manhattan_distance(goal_state)\n",
    "            dictn[i] = [temp_state, cost]\n",
    "\n",
    "        if i == 2:\n",
    "            temp_state.move_left()\n",
    "            cost = temp_state.manhattan_distance(goal_state)\n",
    "            dictn[i] = [temp_state, cost]\n",
    "\n",
    "        if i == 3:\n",
    "            temp_state.move_right()\n",
    "            cost = temp_state.manhattan_distance(goal_state)\n",
    "            dictn[i] = [temp_state, cost]\n",
    "\n",
    "    lst = []\n",
    "    lst.append(dictn)\n",
    "    random.seed(time.time())\n",
    "    lst = lst[0][random.randrange(0, 4)]\n",
    "    return lst[0]"
   ],
   "metadata": {
    "collapsed": false
   }
  },
  {
   "cell_type": "code",
   "execution_count": 408,
   "outputs": [],
   "source": [
    "def simulated_annealing(start_state, T, alpha):\n",
    "    curr = start_state\n",
    "    itr = 0\n",
    "\n",
    "    while True:\n",
    "        itr += 1\n",
    "        if np.array_equal(curr.in_state, goal_state) or T == 0 or itr > 300:\n",
    "            print(curr.in_state)\n",
    "            print(itr, \"iterations\")\n",
    "            return curr\n",
    "        # elif T == 0 or itr > 300:\n",
    "        #     curr = random_restart(start_state)\n",
    "\n",
    "        next_ = random_select_neighbour_mt(curr, goal_state)\n",
    "        curr_val = curr.misplaced_tiles(goal_state)\n",
    "\n",
    "        delE = next_[1] - curr_val\n",
    "        # print(itr)\n",
    "        if delE >= 0:\n",
    "            curr = next_[0]\n",
    "        elif random.random() < math.exp(delE/T):\n",
    "            curr = next_[0]\n",
    "        T = alpha * T\n",
    "        # print(T)\n",
    "    print(curr.in_state)\n",
    "    print(itr, \"iterations\")\n",
    "    return curr"
   ],
   "metadata": {
    "collapsed": false
   }
  },
  {
   "cell_type": "code",
   "execution_count": 415,
   "outputs": [
    {
     "name": "stdout",
     "output_type": "stream",
     "text": [
      "[[0 1 2]\n",
      " [3 4 5]\n",
      " [6 7 8]]\n",
      "37 iterations\n",
      "h= 0\n"
     ]
    }
   ],
   "source": [
    "temp_state = cp.deepcopy(curr_state)\n",
    "sol = simulated_annealing(temp_state, 20, 0.97)\n",
    "print(\"h=\", sol.manhattan_distance(goal_state))"
   ],
   "metadata": {
    "collapsed": false
   }
  },
  {
   "cell_type": "code",
   "execution_count": null,
   "outputs": [],
   "source": [],
   "metadata": {
    "collapsed": false
   }
  }
 ],
 "metadata": {
  "kernelspec": {
   "display_name": "Python 3",
   "language": "python",
   "name": "python3"
  },
  "language_info": {
   "codemirror_mode": {
    "name": "ipython",
    "version": 2
   },
   "file_extension": ".py",
   "mimetype": "text/x-python",
   "name": "python",
   "nbconvert_exporter": "python",
   "pygments_lexer": "ipython2",
   "version": "2.7.6"
  }
 },
 "nbformat": 4,
 "nbformat_minor": 0
}
