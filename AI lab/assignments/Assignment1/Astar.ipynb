{
 "cells": [
  {
   "cell_type": "markdown",
   "source": [
    "File pre-processing"
   ],
   "metadata": {
    "collapsed": false
   }
  },
  {
   "cell_type": "code",
   "execution_count": 52,
   "outputs": [],
   "source": [
    "file_contents = \"\"\n",
    "nEdge = 0\n",
    "with open(\"input.txt\", \"rt\") as input_file:\n",
    "    file_contents = input_file.readlines()\n",
    "\n",
    "# print(file_contents)"
   ],
   "metadata": {
    "collapsed": false
   }
  },
  {
   "cell_type": "code",
   "execution_count": 53,
   "outputs": [
    {
     "name": "stdout",
     "output_type": "stream",
     "text": [
      "{'S': [1, 2], 'A': [2, 2], 'G': [4, 5]}\n"
     ]
    }
   ],
   "source": [
    "n_f = []\n",
    "for sr in file_contents:\n",
    "    if sr == \"\\n\":\n",
    "        continue\n",
    "    w_nl = sr.removesuffix(\"\\n\")\n",
    "    # w_spc = w_nl.replace(\" \", \"\")\n",
    "    n_f.append(w_nl)\n",
    "\n",
    "nVertex = int(n_f[0])\n",
    "\n",
    "coOrds = {}\n",
    "# print(n_f)\n",
    "\n",
    "for i in range(1, nVertex+1):\n",
    "    str_ = n_f[i]\n",
    "    str_ = str_.split(\" \")\n",
    "    # print(str_)\n",
    "    lst = [int(str_[1]), int(str_[2])]\n",
    "    coOrds[str_[0]] = lst\n",
    "\n",
    "print(coOrds)"
   ],
   "metadata": {
    "collapsed": false
   }
  },
  {
   "cell_type": "code",
   "execution_count": 54,
   "outputs": [
    {
     "name": "stdout",
     "output_type": "stream",
     "text": [
      "{'S': [['A', 1], ['G', 10]], 'A': [['G', 1]]}\n"
     ]
    }
   ],
   "source": [
    "adjlst = {}\n",
    "\n",
    "nEdge = int(n_f[nVertex+1])\n",
    "\n",
    "# print()\n",
    "# print(n_f)\n",
    "for i in range(1, nEdge+1):\n",
    "    str_ = n_f[nVertex+i+1]\n",
    "    str_ = str_.split(\" \")\n",
    "    lst = [str_[1], int(str_[2])]\n",
    "    if not bool(adjlst.get(str_[0])):\n",
    "        adjlst[str_[0]] = [lst]\n",
    "    else:\n",
    "        adjlst[str_[0]].append(lst)\n",
    "\n",
    "print(adjlst)"
   ],
   "metadata": {
    "collapsed": false
   }
  },
  {
   "cell_type": "markdown",
   "source": [
    "Astar starts"
   ],
   "metadata": {
    "collapsed": false
   }
  },
  {
   "cell_type": "code",
   "execution_count": 55,
   "outputs": [],
   "source": [
    "from math import sqrt, pow\n",
    "\n",
    "def huristic(coords, node, goalNode):\n",
    "    return sqrt(pow(coords[node][0] - coords[goalNode][0], 2) + pow(coords[node][1] - coords[goalNode][1], 2))\n",
    "\n",
    "# print(huristic(coOrds, \"S\", \"G\"))"
   ],
   "metadata": {
    "collapsed": false
   }
  },
  {
   "cell_type": "code",
   "execution_count": 56,
   "outputs": [],
   "source": [
    "import queue\n",
    "\n",
    "q = queue.PriorityQueue()\n",
    "\n",
    "class NodeState:\n",
    "    def __init__(self, nid, g, f, parent):\n",
    "        self.nid = nid\n",
    "        self.g = g\n",
    "        self.f = f\n",
    "        self.parent = parent\n",
    "        self.path = \"\"\n",
    "    def __lt__(self, other):\n",
    "        return self.f < other.f\n",
    "    def __eq__(self, other):\n",
    "        return self.f == other.f\n",
    "    def print_parents(self,obj):\n",
    "        if obj is None:\n",
    "            self.path = \"\"\n",
    "            return self.path\n",
    "        self.print_parents(obj.parent)\n",
    "        self.path += obj.nid + \"-\""
   ],
   "metadata": {
    "collapsed": false
   }
  },
  {
   "cell_type": "code",
   "execution_count": 57,
   "outputs": [
    {
     "name": "stdout",
     "output_type": "stream",
     "text": [
      "Solution path  S-A-G\n",
      "Solution cost  2.0\n"
     ]
    }
   ],
   "source": [
    "startNode = n_f[nVertex+nEdge+2]\n",
    "goalNode = n_f[nVertex+nEdge+3]\n",
    "g = 0\n",
    "f = huristic(coOrds, startNode, goalNode)\n",
    "startState = NodeState(startNode, g, f, None)\n",
    "\n",
    "q.put(startState)\n",
    "\n",
    "while not q.empty():\n",
    "    curr_state = q.get()\n",
    "    if curr_state.nid == goalNode:\n",
    "        curr_state.print_parents(curr_state)\n",
    "        path_ = curr_state.path[:-1]\n",
    "        print(\"Solution path \", path_)\n",
    "        print(\"Solution cost \", curr_state.f)\n",
    "        with open(\"output.txt\", \"wt\") as o:\n",
    "            o.write(\"Solution path \" + str(path_) + \"\\n\")\n",
    "            o.write(\"Solution cost \" + str(curr_state.f))\n",
    "        break\n",
    "    for lst in adjlst[curr_state.nid]:\n",
    "        # print(lst)\n",
    "        g = curr_state.g + lst[1]\n",
    "        h = huristic(coOrds, lst[0], goalNode)\n",
    "        f = g + h\n",
    "        newState = NodeState(lst[0], g, f, curr_state)\n",
    "        q.put(newState)\n",
    "        # print(lst[0], g, f, curr_state.nid)"
   ],
   "metadata": {
    "collapsed": false
   }
  },
  {
   "cell_type": "code",
   "execution_count": 57,
   "outputs": [],
   "source": [],
   "metadata": {
    "collapsed": false
   }
  }
 ],
 "metadata": {
  "kernelspec": {
   "display_name": "Python 3",
   "language": "python",
   "name": "python3"
  },
  "language_info": {
   "codemirror_mode": {
    "name": "ipython",
    "version": 2
   },
   "file_extension": ".py",
   "mimetype": "text/x-python",
   "name": "python",
   "nbconvert_exporter": "python",
   "pygments_lexer": "ipython2",
   "version": "2.7.6"
  }
 },
 "nbformat": 4,
 "nbformat_minor": 0
}
