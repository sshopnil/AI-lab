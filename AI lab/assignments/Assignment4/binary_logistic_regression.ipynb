{
 "cells": [
  {
   "cell_type": "markdown",
   "source": [
    "Data Preprocessing"
   ],
   "metadata": {
    "collapsed": false
   }
  },
  {
   "cell_type": "code",
   "execution_count": 134,
   "metadata": {
    "collapsed": true
   },
   "outputs": [],
   "source": [
    "#imports\n",
    "import numpy as np\n",
    "from sklearn.model_selection import train_test_split\n",
    "import random\n",
    "import math\n",
    "\n",
    "def sigmoid(x):\n",
    "    z = 1 / (1 + np.exp(-x))\n",
    "    return z\n",
    "\n",
    "import warnings\n",
    "\n",
    "#suppress warnings\n",
    "warnings.filterwarnings('ignore')"
   ]
  },
  {
   "cell_type": "code",
   "execution_count": 135,
   "outputs": [],
   "source": [
    "data_path = 'https://raw.githubusercontent.com/jbrownlee/Datasets/master/pima-indians-diabetes.data.csv'\n",
    "my_data = np.genfromtxt(data_path, delimiter=',')"
   ],
   "metadata": {
    "collapsed": false
   }
  },
  {
   "cell_type": "code",
   "execution_count": 143,
   "outputs": [],
   "source": [
    "x = my_data[:, :-1]\n",
    "y = my_data[:, -1]\n",
    "\n",
    "x_train, x_test_val, y_train, y_test_val = train_test_split(x, y, train_size=.70, random_state=1, stratify=y)\n",
    "\n",
    "x_test, x_val, y_test, y_val = train_test_split(x_test_val, y_test_val, test_size=.50, random_state=1, stratify=y_test_val)"
   ],
   "metadata": {
    "collapsed": false
   }
  },
  {
   "cell_type": "code",
   "execution_count": 144,
   "outputs": [
    {
     "name": "stdout",
     "output_type": "stream",
     "text": [
      "(231,)\n",
      "(116, 8)\n"
     ]
    }
   ],
   "source": [
    "print(y_test_val.shape)\n",
    "print(x_val.shape)"
   ],
   "metadata": {
    "collapsed": false
   }
  },
  {
   "cell_type": "code",
   "execution_count": 145,
   "outputs": [],
   "source": [
    "class BinaryLR:\n",
    "    def __init__(self, lr, max_itr):\n",
    "        self.lr = lr\n",
    "        self.max_itr = max_itr\n",
    "\n",
    "    # @staticmethod\n",
    "    def init_train_set(self, x_train):\n",
    "        X_p = []\n",
    "        for eachData in x_train:\n",
    "            lst = eachData.tolist()\n",
    "            lst.append(1)\n",
    "            X_p.append(lst)\n",
    "\n",
    "        theta_size = np.asarray(X_p).shape\n",
    "\n",
    "        self.x_train = np.asarray(X_p)\n",
    "        self.theta_size = theta_size[1]\n",
    "\n",
    "        return  np.asarray(X_p), theta_size[1]\n",
    "\n",
    "    def train_model(self, x_train, y_train):\n",
    "        self.init_train_set(x_train)\n",
    "        max_iter = self.max_itr\n",
    "        lr_set= self.lr\n",
    "        x_train = self.x_train\n",
    "        size = self.theta_size\n",
    "        history = []\n",
    "        set_of_theta = []\n",
    "        set_of_history = []\n",
    "\n",
    "        for lr in lr_set:\n",
    "            history.clear()\n",
    "            theta = np.random.random(size)\n",
    "\n",
    "            for itr in range(0, max_iter):\n",
    "                TJ = 0\n",
    "                i = 0\n",
    "                for eachSample in x_train:\n",
    "                    z = np.dot(eachSample, theta)\n",
    "                    h = sigmoid(z)\n",
    "                    J = -(y_train[i]*np.log(h)) - ((1-y_train[i]) * np.log(1-h))\n",
    "                    TJ += J\n",
    "                    dv = np.multiply(eachSample, (h-y_train[i]))\n",
    "                    theta = theta - dv * lr\n",
    "                    i += 1\n",
    "                TJ = TJ/len(x_train)\n",
    "                history.append(TJ)\n",
    "\n",
    "            set_of_theta.append(theta)\n",
    "            set_of_history.append(history)\n",
    "        return set_of_theta, set_of_history\n"
   ],
   "metadata": {
    "collapsed": false
   }
  },
  {
   "cell_type": "code",
   "execution_count": 146,
   "outputs": [],
   "source": [
    "np.seterr(divide = 'ignore')\n",
    "lr_set =[0.1,0.01,0.001,0.0001]\n",
    "\n",
    "obj = BinaryLR(lr_set, 500)\n",
    "\n",
    "set_of_theta, set_of_history = obj.train_model(x_train, y_train)\n",
    "# print(np_arr.shape)\n",
    "# print(obj.x_train.shape)\n"
   ],
   "metadata": {
    "collapsed": false
   }
  },
  {
   "cell_type": "code",
   "execution_count": 147,
   "outputs": [],
   "source": [
    "val_set, theta_size = obj.init_train_set(x_val)\n",
    "# print(val_set)"
   ],
   "metadata": {
    "collapsed": false
   }
  },
  {
   "cell_type": "markdown",
   "source": [
    "validation"
   ],
   "metadata": {
    "collapsed": false
   }
  },
  {
   "cell_type": "code",
   "execution_count": 152,
   "outputs": [
    {
     "name": "stdout",
     "output_type": "stream",
     "text": [
      "61.206896551724135\n",
      "63.793103448275865\n",
      "62.93103448275862\n",
      "59.48275862068966\n"
     ]
    }
   ],
   "source": [
    "for theta in set_of_theta:\n",
    "    count=0\n",
    "    i = 0\n",
    "    for val in val_set:\n",
    "        z=np.dot(val,theta)\n",
    "        h=sigmoid(z)\n",
    "        if h>=0.5:\n",
    "            h=1\n",
    "        else:\n",
    "            h=0\n",
    "\n",
    "        if h==y_val[i]:\n",
    "          count=count+1\n",
    "        i += 1\n",
    "\n",
    "    validation_accuracy=(count/len(x_val))*100\n",
    "    print(validation_accuracy)"
   ],
   "metadata": {
    "collapsed": false
   }
  },
  {
   "cell_type": "code",
   "execution_count": 151,
   "outputs": [
    {
     "name": "stdout",
     "output_type": "stream",
     "text": [
      "65.21739130434783\n"
     ]
    }
   ],
   "source": [
    "test_set, test_theta_size = obj.init_train_set(x_test)\n",
    "\n",
    "count=0\n",
    "i = 0\n",
    "for T in test_set:\n",
    "    Z=np.dot(T,set_of_theta[1])\n",
    "    h=sigmoid(Z)\n",
    "    if h>=0.5:\n",
    "        h=1\n",
    "    else:\n",
    "        h=0\n",
    "\n",
    "    if h==y_test[i]:\n",
    "        count=count+1\n",
    "    i += 1\n",
    "\n",
    "Test_accuracy=(count/len(x_test))*100\n",
    "print(Test_accuracy)"
   ],
   "metadata": {
    "collapsed": false
   }
  },
  {
   "cell_type": "code",
   "execution_count": 154,
   "outputs": [
    {
     "data": {
      "text/plain": "<Figure size 640x480 with 1 Axes>",
      "image/png": "[encoded data removed]"
     },
     "metadata": {},
     "output_type": "display_data"
    }
   ],
   "source": [
    "epoch_list=list(range(1,501))\n",
    "# print(set_of_history[0])\n",
    "\n",
    "import matplotlib.pyplot as plt\n",
    "plt.plot(epoch_list,set_of_history[0])\n",
    "\n",
    "plt.xlabel('epoch')\n",
    "\n",
    "plt.ylabel('Train loss')\n",
    "plt.title('Train_loss vs epoch graph')\n",
    "plt.show()\n"
   ],
   "metadata": {
    "collapsed": false
   }
  },
  {
   "cell_type": "code",
   "execution_count": 113,
   "outputs": [],
   "source": [],
   "metadata": {
    "collapsed": false
   }
  }
 ],
 "metadata": {
  "kernelspec": {
   "display_name": "Python 3",
   "language": "python",
   "name": "python3"
  },
  "language_info": {
   "codemirror_mode": {
    "name": "ipython",
    "version": 2
   },
   "file_extension": ".py",
   "mimetype": "text/x-python",
   "name": "python",
   "nbconvert_exporter": "python",
   "pygments_lexer": "ipython2",
   "version": "2.7.6"
  }
 },
 "nbformat": 4,
 "nbformat_minor": 0
}
